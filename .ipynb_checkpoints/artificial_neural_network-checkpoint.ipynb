{
 "cells": [
  {
   "cell_type": "markdown",
   "metadata": {
    "colab_type": "text",
    "id": "lP6JLo1tGNBg"
   },
   "source": [
    "# Artificial Neural Network"
   ]
  },
  {
   "cell_type": "markdown",
   "metadata": {
    "colab_type": "text",
    "id": "gWZyYmS_UE_L"
   },
   "source": [
    "### Importing the libraries"
   ]
  },
  {
   "cell_type": "code",
   "execution_count": 87,
   "metadata": {
    "colab": {},
    "colab_type": "code",
    "id": "MxkJoQBkUIHC"
   },
   "outputs": [],
   "source": [
    "import numpy as np\n",
    "import pandas as pd\n",
    "import tensorflow as tf\n",
    "from sklearn.preprocessing import LabelEncoder\n",
    "from sklearn.compose import ColumnTransformer\n",
    "from sklearn.preprocessing import OneHotEncoder\n",
    "from sklearn.model_selection import train_test_split\n",
    "from sklearn.preprocessing import StandardScaler\n",
    "from sklearn.metrics import confusion_matrix, accuracy_score"
   ]
  },
  {
   "cell_type": "code",
   "execution_count": 4,
   "metadata": {
    "colab": {
     "base_uri": "https://localhost:8080/",
     "height": 34
    },
    "colab_type": "code",
    "id": "ZaTwK7ojXr2F",
    "outputId": "0b27a96d-d11a-43e8-ab4b-87c1f01896fe"
   },
   "outputs": [
    {
     "data": {
      "text/plain": [
       "'2.7.0'"
      ]
     },
     "execution_count": 4,
     "metadata": {},
     "output_type": "execute_result"
    }
   ],
   "source": [
    "tf.__version__"
   ]
  },
  {
   "cell_type": "markdown",
   "metadata": {
    "colab_type": "text",
    "id": "1E0Q3aoKUCRX"
   },
   "source": [
    "## Part 1 - Data Preprocessing"
   ]
  },
  {
   "cell_type": "markdown",
   "metadata": {
    "colab_type": "text",
    "id": "cKWAkFVGUU0Z"
   },
   "source": [
    "### Importing the dataset"
   ]
  },
  {
   "cell_type": "code",
   "execution_count": 5,
   "metadata": {
    "colab": {},
    "colab_type": "code",
    "id": "MXUkhkMfU4wq"
   },
   "outputs": [],
   "source": [
    "dataset = pd.read_csv('Churn_Modelling.csv')"
   ]
  },
  {
   "cell_type": "code",
   "execution_count": 6,
   "metadata": {
    "colab": {
     "base_uri": "https://localhost:8080/",
     "height": 137
    },
    "colab_type": "code",
    "id": "VYP9cQTWbzuI",
    "outputId": "797e7a64-9bac-436a-8c9c-94437e5e7587"
   },
   "outputs": [],
   "source": [
    "x = dataset.iloc[:, 3:-1].values"
   ]
  },
  {
   "cell_type": "code",
   "execution_count": 7,
   "metadata": {
    "colab": {
     "base_uri": "https://localhost:8080/",
     "height": 34
    },
    "colab_type": "code",
    "id": "38vKGE6Nb2RR",
    "outputId": "a815e42a-e0dd-4cb5-ab97-b17ead98fbc3"
   },
   "outputs": [],
   "source": [
    "y = dataset.iloc[:, -1].values"
   ]
  },
  {
   "cell_type": "code",
   "execution_count": 8,
   "metadata": {},
   "outputs": [
    {
     "name": "stdout",
     "output_type": "stream",
     "text": [
      "[[619 'France' 'Female' ... 1 1 101348.88]\n",
      " [608 'Spain' 'Female' ... 0 1 112542.58]\n",
      " [502 'France' 'Female' ... 1 0 113931.57]\n",
      " ...\n",
      " [709 'France' 'Female' ... 0 1 42085.58]\n",
      " [772 'Germany' 'Male' ... 1 0 92888.52]\n",
      " [792 'France' 'Female' ... 1 0 38190.78]]\n"
     ]
    }
   ],
   "source": [
    "print(x)"
   ]
  },
  {
   "cell_type": "code",
   "execution_count": 9,
   "metadata": {},
   "outputs": [
    {
     "name": "stdout",
     "output_type": "stream",
     "text": [
      "[1 0 1 ... 1 1 0]\n"
     ]
    }
   ],
   "source": [
    "print(y)\n"
   ]
  },
  {
   "cell_type": "markdown",
   "metadata": {
    "colab_type": "text",
    "id": "N6bQ0UgSU-NJ"
   },
   "source": [
    "### Encoding categorical data"
   ]
  },
  {
   "cell_type": "markdown",
   "metadata": {
    "colab_type": "text",
    "id": "le5MJreAbW52"
   },
   "source": [
    "Label Encoding the \"Gender\" column"
   ]
  },
  {
   "cell_type": "code",
   "execution_count": 10,
   "metadata": {
    "colab": {},
    "colab_type": "code",
    "id": "PxVKWXxLbczC"
   },
   "outputs": [],
   "source": [
    "le = LabelEncoder()"
   ]
  },
  {
   "cell_type": "code",
   "execution_count": 11,
   "metadata": {
    "colab": {
     "base_uri": "https://localhost:8080/",
     "height": 137
    },
    "colab_type": "code",
    "id": "-M1KboxFb6OO",
    "outputId": "e2b8c7e8-0cbc-4cdf-f4eb-7f0853a00b88"
   },
   "outputs": [],
   "source": [
    "x[:, 2] = le.fit_transform(x[:, 2])"
   ]
  },
  {
   "cell_type": "code",
   "execution_count": 12,
   "metadata": {},
   "outputs": [
    {
     "name": "stdout",
     "output_type": "stream",
     "text": [
      "[[619 'France' 0 ... 1 1 101348.88]\n",
      " [608 'Spain' 0 ... 0 1 112542.58]\n",
      " [502 'France' 0 ... 1 0 113931.57]\n",
      " ...\n",
      " [709 'France' 0 ... 0 1 42085.58]\n",
      " [772 'Germany' 1 ... 1 0 92888.52]\n",
      " [792 'France' 0 ... 1 0 38190.78]]\n"
     ]
    }
   ],
   "source": [
    "print(x)"
   ]
  },
  {
   "cell_type": "markdown",
   "metadata": {
    "colab_type": "text",
    "id": "CUxGZezpbMcb"
   },
   "source": [
    "One Hot Encoding the \"Geography\" column"
   ]
  },
  {
   "cell_type": "code",
   "execution_count": 13,
   "metadata": {
    "colab": {},
    "colab_type": "code",
    "id": "AMXC8-KMVirw"
   },
   "outputs": [],
   "source": [
    "ct = ColumnTransformer(transformers=[('encoder', OneHotEncoder(), [1])], remainder='passthrough')"
   ]
  },
  {
   "cell_type": "code",
   "execution_count": 14,
   "metadata": {
    "colab": {
     "base_uri": "https://localhost:8080/",
     "height": 137
    },
    "colab_type": "code",
    "id": "ZcxwEon-b8nV",
    "outputId": "23a98af4-5e33-4b26-c27b-f06e3c5d2baf"
   },
   "outputs": [],
   "source": [
    "x = np.array(ct.fit_transform(x))"
   ]
  },
  {
   "cell_type": "code",
   "execution_count": 15,
   "metadata": {},
   "outputs": [
    {
     "name": "stdout",
     "output_type": "stream",
     "text": [
      "[[1.0 0.0 0.0 ... 1 1 101348.88]\n",
      " [0.0 0.0 1.0 ... 0 1 112542.58]\n",
      " [1.0 0.0 0.0 ... 1 0 113931.57]\n",
      " ...\n",
      " [1.0 0.0 0.0 ... 0 1 42085.58]\n",
      " [0.0 1.0 0.0 ... 1 0 92888.52]\n",
      " [1.0 0.0 0.0 ... 1 0 38190.78]]\n"
     ]
    }
   ],
   "source": [
    "print(x)"
   ]
  },
  {
   "cell_type": "markdown",
   "metadata": {
    "colab_type": "text",
    "id": "vHol938cW8zd"
   },
   "source": [
    "### Splitting the dataset into the Training set and Test set"
   ]
  },
  {
   "cell_type": "code",
   "execution_count": 16,
   "metadata": {
    "colab": {},
    "colab_type": "code",
    "id": "Z-TDt0Y_XEfc"
   },
   "outputs": [],
   "source": [
    "x_train, x_test, y_train, y_test = train_test_split(x, y, test_size=0.2, random_state=0)"
   ]
  },
  {
   "cell_type": "code",
   "execution_count": 17,
   "metadata": {},
   "outputs": [
    {
     "name": "stdout",
     "output_type": "stream",
     "text": [
      "Split x train:  [[0.0 0.0 1.0 ... 1 0 163830.64]\n",
      " [0.0 1.0 0.0 ... 1 1 57098.0]\n",
      " [1.0 0.0 0.0 ... 1 0 185630.76]\n",
      " ...\n",
      " [1.0 0.0 0.0 ... 1 0 181429.87]\n",
      " [0.0 0.0 1.0 ... 1 1 148750.16]\n",
      " [0.0 1.0 0.0 ... 1 0 118855.26]]\n",
      "Split x test:  [[0.0 1.0 0.0 ... 1 1 192852.67]\n",
      " [1.0 0.0 0.0 ... 1 0 128702.1]\n",
      " [0.0 0.0 1.0 ... 1 1 75732.25]\n",
      " ...\n",
      " [0.0 0.0 1.0 ... 1 0 141533.19]\n",
      " [0.0 1.0 0.0 ... 1 1 11276.48]\n",
      " [0.0 1.0 0.0 ... 1 0 192950.6]]\n",
      "Split y train:  [0 0 0 ... 0 0 1]\n",
      "Split x test:  [0 1 0 ... 0 0 0]\n"
     ]
    }
   ],
   "source": [
    "print('Split x train: ', x_train)\n",
    "print('Split x test: ', x_test)\n",
    "print('Split y train: ', y_train)\n",
    "print('Split x test: ', y_test)"
   ]
  },
  {
   "cell_type": "markdown",
   "metadata": {
    "colab_type": "text",
    "id": "RE_FcHyfV3TQ"
   },
   "source": [
    "### Feature Scaling"
   ]
  },
  {
   "cell_type": "code",
   "execution_count": 18,
   "metadata": {
    "colab": {},
    "colab_type": "code",
    "id": "ViCrE00rV8Sk"
   },
   "outputs": [
    {
     "name": "stdout",
     "output_type": "stream",
     "text": [
      "Scaling x train:  [[-1.01460667 -0.5698444   1.74309049 ...  0.64259497 -1.03227043\n",
      "   1.10643166]\n",
      " [-1.01460667  1.75486502 -0.57369368 ...  0.64259497  0.9687384\n",
      "  -0.74866447]\n",
      " [ 0.98560362 -0.5698444  -0.57369368 ...  0.64259497 -1.03227043\n",
      "   1.48533467]\n",
      " ...\n",
      " [ 0.98560362 -0.5698444  -0.57369368 ...  0.64259497 -1.03227043\n",
      "   1.41231994]\n",
      " [-1.01460667 -0.5698444   1.74309049 ...  0.64259497  0.9687384\n",
      "   0.84432121]\n",
      " [-1.01460667  1.75486502 -0.57369368 ...  0.64259497 -1.03227043\n",
      "   0.32472465]]\n",
      "Scaling x test:  [[-0.95692675  1.62776996 -0.57427105 ...  0.66011376  0.97628121\n",
      "   1.62185911]\n",
      " [ 1.04501206 -0.61433742 -0.57427105 ...  0.66011376 -1.02429504\n",
      "   0.504204  ]\n",
      " [-0.95692675 -0.61433742  1.74133801 ...  0.66011376  0.97628121\n",
      "  -0.41865644]\n",
      " ...\n",
      " [-0.95692675 -0.61433742  1.74133801 ...  0.66011376 -1.02429504\n",
      "   0.72775202]\n",
      " [-0.95692675  1.62776996 -0.57427105 ...  0.66011376  0.97628121\n",
      "  -1.54162886]\n",
      " [-0.95692675  1.62776996 -0.57427105 ...  0.66011376 -1.02429504\n",
      "   1.62356528]]\n"
     ]
    }
   ],
   "source": [
    "sc = StandardScaler()\n",
    "x_train = sc.fit_transform(x_train)\n",
    "x_test = sc.fit_transform(x_test)\n",
    "print('Scaling x train: ', x_train)\n",
    "print('Scaling x test: ', x_test)"
   ]
  },
  {
   "cell_type": "markdown",
   "metadata": {
    "colab_type": "text",
    "id": "-zfEzkRVXIwF"
   },
   "source": [
    "## Part 2 - Building the ANN"
   ]
  },
  {
   "cell_type": "markdown",
   "metadata": {
    "colab_type": "text",
    "id": "KvdeScabXtlB"
   },
   "source": [
    "### Initializing the ANN"
   ]
  },
  {
   "cell_type": "code",
   "execution_count": 19,
   "metadata": {
    "colab": {},
    "colab_type": "code",
    "id": "3dtrScHxXQox"
   },
   "outputs": [
    {
     "data": {
      "text/plain": [
       "<keras.engine.sequential.Sequential at 0x7fbd731921f0>"
      ]
     },
     "execution_count": 19,
     "metadata": {},
     "output_type": "execute_result"
    }
   ],
   "source": [
    "ann = tf.keras.models.Sequential()\n",
    "ann"
   ]
  },
  {
   "cell_type": "markdown",
   "metadata": {
    "colab_type": "text",
    "id": "rP6urV6SX7kS"
   },
   "source": [
    "### Adding the input layer and the first hidden layer"
   ]
  },
  {
   "cell_type": "code",
   "execution_count": 20,
   "metadata": {
    "colab": {},
    "colab_type": "code",
    "id": "bppGycBXYCQr"
   },
   "outputs": [],
   "source": [
    "hidden_neuron_unit_layers = 6\n",
    "output_neuron_unit_layers = 1\n",
    "activation_function = 'relu'\n",
    "activation_function_probability = 'sigmoid'\n",
    "\n",
    "\n",
    "ann.add(tf.keras.layers.Dense(units=hidden_neuron_unit_layers, activation=activation_function))"
   ]
  },
  {
   "cell_type": "markdown",
   "metadata": {
    "colab_type": "text",
    "id": "BELWAc_8YJze"
   },
   "source": [
    "### Adding the second hidden layer"
   ]
  },
  {
   "cell_type": "code",
   "execution_count": 21,
   "metadata": {
    "colab": {},
    "colab_type": "code",
    "id": "JneR0u0sYRTd"
   },
   "outputs": [],
   "source": [
    "ann.add(tf.keras.layers.Dense(units=hidden_neuron_unit_layers, activation=activation_function))"
   ]
  },
  {
   "cell_type": "markdown",
   "metadata": {
    "colab_type": "text",
    "id": "OyNEe6RXYcU4"
   },
   "source": [
    "### Adding the output layer"
   ]
  },
  {
   "cell_type": "code",
   "execution_count": 22,
   "metadata": {
    "colab": {},
    "colab_type": "code",
    "id": "Cn3x41RBYfvY"
   },
   "outputs": [],
   "source": [
    "ann.add(tf.keras.layers.Dense(units=output_neuron_unit_layers, activation=activation_function_probability))\n"
   ]
  },
  {
   "cell_type": "markdown",
   "metadata": {
    "colab_type": "text",
    "id": "JT4u2S1_Y4WG"
   },
   "source": [
    "## Part 3 - Training the ANN"
   ]
  },
  {
   "cell_type": "markdown",
   "metadata": {
    "colab_type": "text",
    "id": "8GWlJChhY_ZI"
   },
   "source": [
    "### Compiling the ANN"
   ]
  },
  {
   "cell_type": "code",
   "execution_count": 23,
   "metadata": {
    "colab": {},
    "colab_type": "code",
    "id": "fG3RrwDXZEaS"
   },
   "outputs": [],
   "source": [
    "optimizer_function = 'adam'\n",
    "loss_function = 'binary_crossentropy'\n",
    "neuron_metrics = ['accuracy']\n",
    "\n",
    "ann.compile(optimizer=optimizer_function, loss=loss_function, metrics=neuron_metrics)"
   ]
  },
  {
   "cell_type": "markdown",
   "metadata": {
    "colab_type": "text",
    "id": "0QR_G5u7ZLSM"
   },
   "source": [
    "### Training the ANN on the Training set"
   ]
  },
  {
   "cell_type": "code",
   "execution_count": 24,
   "metadata": {
    "colab": {
     "base_uri": "https://localhost:8080/",
     "height": 1000
    },
    "colab_type": "code",
    "id": "nHZ-LKv_ZRb3",
    "outputId": "718cc4b0-b5aa-40f0-9b20-d3d31730a531"
   },
   "outputs": [
    {
     "name": "stdout",
     "output_type": "stream",
     "text": [
      "Epoch 1/100\n",
      "250/250 [==============================] - 1s 536us/step - loss: 0.6630 - accuracy: 0.6260\n",
      "Epoch 2/100\n",
      "250/250 [==============================] - 0s 516us/step - loss: 0.4802 - accuracy: 0.7960\n",
      "Epoch 3/100\n",
      "250/250 [==============================] - 0s 517us/step - loss: 0.4447 - accuracy: 0.7971\n",
      "Epoch 4/100\n",
      "250/250 [==============================] - 0s 578us/step - loss: 0.4314 - accuracy: 0.8018\n",
      "Epoch 5/100\n",
      "250/250 [==============================] - 0s 511us/step - loss: 0.4241 - accuracy: 0.8120\n",
      "Epoch 6/100\n",
      "250/250 [==============================] - 0s 511us/step - loss: 0.4177 - accuracy: 0.8183\n",
      "Epoch 7/100\n",
      "250/250 [==============================] - 0s 513us/step - loss: 0.4117 - accuracy: 0.8215\n",
      "Epoch 8/100\n",
      "250/250 [==============================] - 0s 508us/step - loss: 0.4054 - accuracy: 0.8260\n",
      "Epoch 9/100\n",
      "250/250 [==============================] - 0s 510us/step - loss: 0.4002 - accuracy: 0.8278\n",
      "Epoch 10/100\n",
      "250/250 [==============================] - 0s 518us/step - loss: 0.3955 - accuracy: 0.8291\n",
      "Epoch 11/100\n",
      "250/250 [==============================] - 0s 514us/step - loss: 0.3913 - accuracy: 0.8292\n",
      "Epoch 12/100\n",
      "250/250 [==============================] - 0s 517us/step - loss: 0.3860 - accuracy: 0.8335\n",
      "Epoch 13/100\n",
      "250/250 [==============================] - 0s 509us/step - loss: 0.3794 - accuracy: 0.8397\n",
      "Epoch 14/100\n",
      "250/250 [==============================] - 0s 520us/step - loss: 0.3730 - accuracy: 0.8451\n",
      "Epoch 15/100\n",
      "250/250 [==============================] - 0s 516us/step - loss: 0.3675 - accuracy: 0.8478\n",
      "Epoch 16/100\n",
      "250/250 [==============================] - 0s 513us/step - loss: 0.3619 - accuracy: 0.8526\n",
      "Epoch 17/100\n",
      "250/250 [==============================] - 0s 510us/step - loss: 0.3572 - accuracy: 0.8551\n",
      "Epoch 18/100\n",
      "250/250 [==============================] - 0s 520us/step - loss: 0.3535 - accuracy: 0.8559\n",
      "Epoch 19/100\n",
      "250/250 [==============================] - 0s 520us/step - loss: 0.3503 - accuracy: 0.8581\n",
      "Epoch 20/100\n",
      "250/250 [==============================] - 0s 521us/step - loss: 0.3483 - accuracy: 0.8584\n",
      "Epoch 21/100\n",
      "250/250 [==============================] - 0s 519us/step - loss: 0.3464 - accuracy: 0.8606\n",
      "Epoch 22/100\n",
      "250/250 [==============================] - 0s 519us/step - loss: 0.3453 - accuracy: 0.8611\n",
      "Epoch 23/100\n",
      "250/250 [==============================] - 0s 528us/step - loss: 0.3441 - accuracy: 0.8595\n",
      "Epoch 24/100\n",
      "250/250 [==============================] - 0s 519us/step - loss: 0.3433 - accuracy: 0.8610\n",
      "Epoch 25/100\n",
      "250/250 [==============================] - 0s 527us/step - loss: 0.3428 - accuracy: 0.8596\n",
      "Epoch 26/100\n",
      "250/250 [==============================] - 0s 523us/step - loss: 0.3419 - accuracy: 0.8605\n",
      "Epoch 27/100\n",
      "250/250 [==============================] - 0s 534us/step - loss: 0.3414 - accuracy: 0.8608\n",
      "Epoch 28/100\n",
      "250/250 [==============================] - 0s 526us/step - loss: 0.3408 - accuracy: 0.8610\n",
      "Epoch 29/100\n",
      "250/250 [==============================] - 0s 522us/step - loss: 0.3404 - accuracy: 0.8599\n",
      "Epoch 30/100\n",
      "250/250 [==============================] - 0s 519us/step - loss: 0.3399 - accuracy: 0.8619\n",
      "Epoch 31/100\n",
      "250/250 [==============================] - 0s 521us/step - loss: 0.3400 - accuracy: 0.8629\n",
      "Epoch 32/100\n",
      "250/250 [==============================] - 0s 522us/step - loss: 0.3392 - accuracy: 0.8608\n",
      "Epoch 33/100\n",
      "250/250 [==============================] - 0s 523us/step - loss: 0.3394 - accuracy: 0.8620\n",
      "Epoch 34/100\n",
      "250/250 [==============================] - 0s 520us/step - loss: 0.3390 - accuracy: 0.8626\n",
      "Epoch 35/100\n",
      "250/250 [==============================] - 0s 522us/step - loss: 0.3387 - accuracy: 0.8626\n",
      "Epoch 36/100\n",
      "250/250 [==============================] - 0s 516us/step - loss: 0.3387 - accuracy: 0.8620\n",
      "Epoch 37/100\n",
      "250/250 [==============================] - 0s 512us/step - loss: 0.3383 - accuracy: 0.8627\n",
      "Epoch 38/100\n",
      "250/250 [==============================] - 0s 523us/step - loss: 0.3383 - accuracy: 0.8625\n",
      "Epoch 39/100\n",
      "250/250 [==============================] - 0s 524us/step - loss: 0.3381 - accuracy: 0.8625\n",
      "Epoch 40/100\n",
      "250/250 [==============================] - 0s 519us/step - loss: 0.3379 - accuracy: 0.8631\n",
      "Epoch 41/100\n",
      "250/250 [==============================] - 0s 518us/step - loss: 0.3378 - accuracy: 0.8625\n",
      "Epoch 42/100\n",
      "250/250 [==============================] - 0s 523us/step - loss: 0.3375 - accuracy: 0.8635\n",
      "Epoch 43/100\n",
      "250/250 [==============================] - 0s 523us/step - loss: 0.3376 - accuracy: 0.8636\n",
      "Epoch 44/100\n",
      "250/250 [==============================] - 0s 521us/step - loss: 0.3376 - accuracy: 0.8622\n",
      "Epoch 45/100\n",
      "250/250 [==============================] - 0s 517us/step - loss: 0.3372 - accuracy: 0.8624\n",
      "Epoch 46/100\n",
      "250/250 [==============================] - 0s 521us/step - loss: 0.3371 - accuracy: 0.8629\n",
      "Epoch 47/100\n",
      "250/250 [==============================] - 0s 530us/step - loss: 0.3368 - accuracy: 0.8635\n",
      "Epoch 48/100\n",
      "250/250 [==============================] - 0s 520us/step - loss: 0.3369 - accuracy: 0.8621\n",
      "Epoch 49/100\n",
      "250/250 [==============================] - 0s 521us/step - loss: 0.3372 - accuracy: 0.8629\n",
      "Epoch 50/100\n",
      "250/250 [==============================] - 0s 528us/step - loss: 0.3368 - accuracy: 0.8629\n",
      "Epoch 51/100\n",
      "250/250 [==============================] - 0s 526us/step - loss: 0.3369 - accuracy: 0.8627\n",
      "Epoch 52/100\n",
      "250/250 [==============================] - 0s 524us/step - loss: 0.3366 - accuracy: 0.8630\n",
      "Epoch 53/100\n",
      "250/250 [==============================] - 0s 519us/step - loss: 0.3366 - accuracy: 0.8637\n",
      "Epoch 54/100\n",
      "250/250 [==============================] - 0s 509us/step - loss: 0.3364 - accuracy: 0.8633\n",
      "Epoch 55/100\n",
      "250/250 [==============================] - 0s 513us/step - loss: 0.3366 - accuracy: 0.8625\n",
      "Epoch 56/100\n",
      "250/250 [==============================] - 0s 516us/step - loss: 0.3362 - accuracy: 0.8631\n",
      "Epoch 57/100\n",
      "250/250 [==============================] - 0s 514us/step - loss: 0.3362 - accuracy: 0.8637\n",
      "Epoch 58/100\n",
      "250/250 [==============================] - 0s 515us/step - loss: 0.3361 - accuracy: 0.8627\n",
      "Epoch 59/100\n",
      "250/250 [==============================] - 0s 516us/step - loss: 0.3364 - accuracy: 0.8634\n",
      "Epoch 60/100\n",
      "250/250 [==============================] - 0s 523us/step - loss: 0.3359 - accuracy: 0.8640\n",
      "Epoch 61/100\n",
      "250/250 [==============================] - 0s 524us/step - loss: 0.3360 - accuracy: 0.8633\n",
      "Epoch 62/100\n",
      "250/250 [==============================] - 0s 518us/step - loss: 0.3358 - accuracy: 0.8626\n",
      "Epoch 63/100\n",
      "250/250 [==============================] - 0s 520us/step - loss: 0.3361 - accuracy: 0.8627\n",
      "Epoch 64/100\n",
      "250/250 [==============================] - 0s 519us/step - loss: 0.3355 - accuracy: 0.8641\n",
      "Epoch 65/100\n",
      "250/250 [==============================] - 0s 517us/step - loss: 0.3359 - accuracy: 0.8622\n",
      "Epoch 66/100\n",
      "250/250 [==============================] - 0s 521us/step - loss: 0.3355 - accuracy: 0.8645\n",
      "Epoch 67/100\n",
      "250/250 [==============================] - 0s 516us/step - loss: 0.3357 - accuracy: 0.8641\n",
      "Epoch 68/100\n",
      "250/250 [==============================] - 0s 514us/step - loss: 0.3353 - accuracy: 0.8633\n",
      "Epoch 69/100\n",
      "250/250 [==============================] - 0s 510us/step - loss: 0.3355 - accuracy: 0.8639\n",
      "Epoch 70/100\n",
      "250/250 [==============================] - 0s 513us/step - loss: 0.3354 - accuracy: 0.8625\n",
      "Epoch 71/100\n",
      "250/250 [==============================] - 0s 512us/step - loss: 0.3355 - accuracy: 0.8656\n",
      "Epoch 72/100\n",
      "250/250 [==============================] - 0s 517us/step - loss: 0.3352 - accuracy: 0.8637\n",
      "Epoch 73/100\n",
      "250/250 [==============================] - 0s 553us/step - loss: 0.3350 - accuracy: 0.8631\n",
      "Epoch 74/100\n",
      "250/250 [==============================] - 0s 527us/step - loss: 0.3356 - accuracy: 0.8634\n",
      "Epoch 75/100\n",
      "250/250 [==============================] - 0s 519us/step - loss: 0.3354 - accuracy: 0.8630\n",
      "Epoch 76/100\n",
      "250/250 [==============================] - 0s 521us/step - loss: 0.3353 - accuracy: 0.8645\n",
      "Epoch 77/100\n",
      "250/250 [==============================] - 0s 518us/step - loss: 0.3353 - accuracy: 0.8635\n",
      "Epoch 78/100\n",
      "250/250 [==============================] - 0s 520us/step - loss: 0.3356 - accuracy: 0.8610\n",
      "Epoch 79/100\n"
     ]
    },
    {
     "name": "stdout",
     "output_type": "stream",
     "text": [
      "250/250 [==============================] - 0s 520us/step - loss: 0.3348 - accuracy: 0.8635\n",
      "Epoch 80/100\n",
      "250/250 [==============================] - 0s 573us/step - loss: 0.3353 - accuracy: 0.8631\n",
      "Epoch 81/100\n",
      "250/250 [==============================] - 0s 509us/step - loss: 0.3355 - accuracy: 0.8616\n",
      "Epoch 82/100\n",
      "250/250 [==============================] - 0s 515us/step - loss: 0.3348 - accuracy: 0.8626\n",
      "Epoch 83/100\n",
      "250/250 [==============================] - 0s 517us/step - loss: 0.3355 - accuracy: 0.8636\n",
      "Epoch 84/100\n",
      "250/250 [==============================] - 0s 518us/step - loss: 0.3352 - accuracy: 0.8636\n",
      "Epoch 85/100\n",
      "250/250 [==============================] - 0s 519us/step - loss: 0.3349 - accuracy: 0.8633\n",
      "Epoch 86/100\n",
      "250/250 [==============================] - 0s 514us/step - loss: 0.3352 - accuracy: 0.8634\n",
      "Epoch 87/100\n",
      "250/250 [==============================] - 0s 513us/step - loss: 0.3350 - accuracy: 0.8635\n",
      "Epoch 88/100\n",
      "250/250 [==============================] - 0s 522us/step - loss: 0.3351 - accuracy: 0.8627\n",
      "Epoch 89/100\n",
      "250/250 [==============================] - 0s 513us/step - loss: 0.3351 - accuracy: 0.8637\n",
      "Epoch 90/100\n",
      "250/250 [==============================] - 0s 515us/step - loss: 0.3349 - accuracy: 0.8639\n",
      "Epoch 91/100\n",
      "250/250 [==============================] - 0s 513us/step - loss: 0.3348 - accuracy: 0.8640\n",
      "Epoch 92/100\n",
      "250/250 [==============================] - 0s 515us/step - loss: 0.3353 - accuracy: 0.8654\n",
      "Epoch 93/100\n",
      "250/250 [==============================] - 0s 510us/step - loss: 0.3346 - accuracy: 0.8644\n",
      "Epoch 94/100\n",
      "250/250 [==============================] - 0s 515us/step - loss: 0.3351 - accuracy: 0.8640\n",
      "Epoch 95/100\n",
      "250/250 [==============================] - 0s 572us/step - loss: 0.3350 - accuracy: 0.8630\n",
      "Epoch 96/100\n",
      "250/250 [==============================] - 0s 520us/step - loss: 0.3347 - accuracy: 0.8639\n",
      "Epoch 97/100\n",
      "250/250 [==============================] - 0s 514us/step - loss: 0.3347 - accuracy: 0.8641\n",
      "Epoch 98/100\n",
      "250/250 [==============================] - 0s 522us/step - loss: 0.3347 - accuracy: 0.8634\n",
      "Epoch 99/100\n",
      "250/250 [==============================] - 0s 515us/step - loss: 0.3343 - accuracy: 0.8648\n",
      "Epoch 100/100\n",
      "250/250 [==============================] - 0s 514us/step - loss: 0.3346 - accuracy: 0.8640\n"
     ]
    },
    {
     "data": {
      "text/plain": [
       "<keras.callbacks.History at 0x7fbd77512ac0>"
      ]
     },
     "execution_count": 24,
     "metadata": {},
     "output_type": "execute_result"
    }
   ],
   "source": [
    "ann.fit(x_train, y_train, batch_size=32, epochs=100)"
   ]
  },
  {
   "cell_type": "markdown",
   "metadata": {
    "colab_type": "text",
    "id": "tJj5k2MxZga3"
   },
   "source": [
    "## Part 4 - Making the predictions and evaluating the model"
   ]
  },
  {
   "cell_type": "markdown",
   "metadata": {
    "colab_type": "text",
    "id": "84QFoqGYeXHL"
   },
   "source": [
    "### Predicting the result of a single observation"
   ]
  },
  {
   "cell_type": "markdown",
   "metadata": {
    "colab_type": "text",
    "id": "CGRo3eacgDdC"
   },
   "source": [
    "**Homework**\n",
    "\n",
    "Use our ANN model to predict if the customer with the following informations will leave the bank: \n",
    "\n",
    "Geography: France\n",
    "\n",
    "Credit Score: 600\n",
    "\n",
    "Gender: Male\n",
    "\n",
    "Age: 40 years old\n",
    "\n",
    "Tenure: 3 years\n",
    "\n",
    "Balance: \\$ 60000\n",
    "\n",
    "Number of Products: 2\n",
    "\n",
    "Does this customer have a credit card ? Yes\n",
    "\n",
    "Is this customer an Active Member: Yes\n",
    "\n",
    "Estimated Salary: \\$ 50000\n",
    "\n",
    "So, should we say goodbye to that customer ?"
   ]
  },
  {
   "cell_type": "markdown",
   "metadata": {
    "colab_type": "text",
    "id": "ZhU1LTgPg-kH"
   },
   "source": [
    "**Solution**"
   ]
  },
  {
   "cell_type": "code",
   "execution_count": 68,
   "metadata": {
    "colab": {
     "base_uri": "https://localhost:8080/",
     "height": 34
    },
    "colab_type": "code",
    "id": "2d8IoCCkeWGL",
    "outputId": "957f3970-e197-4c3b-a150-7f69dc567f5d"
   },
   "outputs": [
    {
     "name": "stdout",
     "output_type": "stream",
     "text": [
      "[[False]]\n"
     ]
    }
   ],
   "source": [
    "print(ann.predict(sc.transform([[1,0,0,600,1,40,3,60000,2,1,1,50000]])) > 0.5)"
   ]
  },
  {
   "cell_type": "code",
   "execution_count": null,
   "metadata": {},
   "outputs": [],
   "source": []
  },
  {
   "cell_type": "code",
   "execution_count": null,
   "metadata": {},
   "outputs": [],
   "source": []
  },
  {
   "cell_type": "code",
   "execution_count": null,
   "metadata": {},
   "outputs": [],
   "source": []
  },
  {
   "cell_type": "markdown",
   "metadata": {
    "colab_type": "text",
    "id": "wGjx94g2n7OV"
   },
   "source": [
    "Therefore, our ANN model predicts that this customer stays in the bank!\n",
    "\n",
    "**Important note 1:** Notice that the values of the features were all input in a double pair of square brackets. That's because the \"predict\" method always expects a 2D array as the format of its inputs. And putting our values into a double pair of square brackets makes the input exactly a 2D array.\n",
    "\n",
    "**Important note 2:** Notice also that the \"France\" country was not input as a string in the last column but as \"1, 0, 0\" in the first three columns. That's because of course the predict method expects the one-hot-encoded values of the state, and as we see in the first row of the matrix of features X, \"France\" was encoded as \"1, 0, 0\". And be careful to include these values in the first three columns, because the dummy variables are always created in the first columns."
   ]
  },
  {
   "cell_type": "markdown",
   "metadata": {
    "colab_type": "text",
    "id": "u7yx47jPZt11"
   },
   "source": [
    "### Predicting the Test set results"
   ]
  },
  {
   "cell_type": "code",
   "execution_count": 86,
   "metadata": {
    "colab": {
     "base_uri": "https://localhost:8080/",
     "height": 137
    },
    "colab_type": "code",
    "id": "nIyEeQdRZwgs",
    "outputId": "82330ba8-9bdc-4fd1-d3cf-b6d78ee7c2a3"
   },
   "outputs": [
    {
     "name": "stdout",
     "output_type": "stream",
     "text": [
      "[[0 0]\n",
      " [0 1]\n",
      " [0 0]\n",
      " ...\n",
      " [0 0]\n",
      " [0 0]\n",
      " [0 0]]\n"
     ]
    }
   ],
   "source": [
    "y_pred = ann.predict(x_test)\n",
    "y_pred = (y_pred > 0.5)\n",
    "print(np.concatenate((y_pred.reshape(len(y_pred),1),y_test.reshape(len(y_test),1)),1))"
   ]
  },
  {
   "cell_type": "markdown",
   "metadata": {
    "colab_type": "text",
    "id": "o0oyfLWoaEGw"
   },
   "source": [
    "### Making the Confusion Matrix"
   ]
  },
  {
   "cell_type": "code",
   "execution_count": 88,
   "metadata": {
    "colab": {
     "base_uri": "https://localhost:8080/",
     "height": 68
    },
    "colab_type": "code",
    "id": "ci6K_r6LaF6P",
    "outputId": "4d854e9e-22d5-432f-f6e5-a102fe3ae0bd"
   },
   "outputs": [],
   "source": [
    "cm = confusion_matrix(y_test, y_pred)"
   ]
  },
  {
   "cell_type": "code",
   "execution_count": 89,
   "metadata": {},
   "outputs": [
    {
     "name": "stdout",
     "output_type": "stream",
     "text": [
      "[[1537   58]\n",
      " [ 210  195]]\n"
     ]
    }
   ],
   "source": [
    "print(cm)"
   ]
  },
  {
   "cell_type": "code",
   "execution_count": 90,
   "metadata": {},
   "outputs": [],
   "source": [
    "ac_score = accuracy_score(y_test, y_pred)"
   ]
  },
  {
   "cell_type": "code",
   "execution_count": 91,
   "metadata": {},
   "outputs": [
    {
     "name": "stdout",
     "output_type": "stream",
     "text": [
      "0.866\n"
     ]
    }
   ],
   "source": [
    "print(ac_score)"
   ]
  },
  {
   "cell_type": "code",
   "execution_count": null,
   "metadata": {},
   "outputs": [],
   "source": []
  }
 ],
 "metadata": {
  "colab": {
   "collapsed_sections": [],
   "name": "artificial_neural_network.ipynb",
   "provenance": [],
   "toc_visible": true
  },
  "kernelspec": {
   "display_name": "Python 3",
   "language": "python",
   "name": "python3"
  },
  "language_info": {
   "codemirror_mode": {
    "name": "ipython",
    "version": 3
   },
   "file_extension": ".py",
   "mimetype": "text/x-python",
   "name": "python",
   "nbconvert_exporter": "python",
   "pygments_lexer": "ipython3",
   "version": "3.8.8"
  }
 },
 "nbformat": 4,
 "nbformat_minor": 1
}
